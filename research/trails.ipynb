{
 "cells": [
  {
   "cell_type": "code",
   "execution_count": 2,
   "metadata": {},
   "outputs": [],
   "source": [
    "import os\n",
    "from dotenv import load_dotenv\n"
   ]
  },
  {
   "cell_type": "code",
   "execution_count": 3,
   "metadata": {},
   "outputs": [],
   "source": [
    "load_dotenv()\n",
    "OPENAI_API_KEY=os.getenv('OPENAI_API_KEY')"
   ]
  },
  {
   "cell_type": "code",
   "execution_count": 4,
   "metadata": {},
   "outputs": [],
   "source": [
    "from langchain.document_loaders import PyPDFLoader"
   ]
  },
  {
   "cell_type": "code",
   "execution_count": 5,
   "metadata": {},
   "outputs": [
    {
     "data": {
      "text/plain": [
       "'c:\\\\Users\\\\Rajmohan\\\\Desktop\\\\LLMOPS\\\\InterviewQuestionCreator\\\\research'"
      ]
     },
     "execution_count": 5,
     "metadata": {},
     "output_type": "execute_result"
    }
   ],
   "source": [
    "%pwd"
   ]
  },
  {
   "cell_type": "code",
   "execution_count": 6,
   "metadata": {},
   "outputs": [
    {
     "name": "stdout",
     "output_type": "stream",
     "text": [
      "c:\\Users\\Rajmohan\\Desktop\\LLMOPS\\InterviewQuestionCreator\n"
     ]
    }
   ],
   "source": [
    "%cd .."
   ]
  },
  {
   "cell_type": "code",
   "execution_count": 7,
   "metadata": {},
   "outputs": [],
   "source": [
    "file_path = \"docs/stats.pdf\"\n",
    "loader = PyPDFLoader(file_path)\n",
    "data = loader.load()"
   ]
  },
  {
   "cell_type": "code",
   "execution_count": 8,
   "metadata": {},
   "outputs": [
    {
     "data": {
      "text/plain": [
       "[Document(page_content='Importance\\nand\\nthe\\nuse\\nof\\ncorrelation\\nin\\nStatistics\\nIntroduction\\nCorrelation\\nis\\na\\nstatistical\\nmeasure\\nthat\\nexpresses\\nthe\\nextent\\nto\\nwhich\\ntwo\\nvariables\\nare\\nlinearly\\nrelated.\\nIt\\nis\\na\\ncommon\\ntool\\nfor\\ndescribing\\nsimple\\nrelationships\\nwithout\\nmaking\\na\\nstatement\\nabout\\ncause\\nand\\neffect.\\nCorrelation\\ncoefficients\\nrange\\nfrom\\n-1\\nto\\n1,\\nwith\\na\\nvalue\\nof\\n0\\nindicating\\nno\\nlinear\\nrelationship\\nbetween\\nthe\\ntwo\\nvariables,\\na\\nvalue\\nof\\n1\\nindicating\\na\\nperfect\\npositive\\nlinear\\nrelationship,\\nand\\na\\nvalue\\nof\\n-1\\nindicating\\na\\nperfect\\nnegative\\nlinear\\nrelationship.\\nCorrelation\\nis\\nimportant\\nin\\nstatistics\\nbecause\\nit\\ncan\\nbe\\nused\\nto\\n1.\\nIdentify\\nrelationships\\nbetween\\nvariables:\\nCorrelation\\ncan\\nbe\\nused\\nto\\nidentify\\nwhether\\nthere\\nis\\na\\nrelationship\\nbetween\\ntwo\\nvariables,\\nand\\nif\\nso,\\nwhether\\nthe\\nrelationship\\nis\\npositive\\nor\\nnegative.\\nThis\\ninformation\\ncan\\nbe\\nuseful\\nfor\\nunderstanding\\nthe\\nrelationships\\nbetween\\ndifferent\\nfactors\\nin\\na\\ncomplex\\nsystem.\\n2.\\nMake\\npredictions:\\nIf\\nthere\\nis\\na\\nstrong\\ncorrelation\\nbetween\\ntwo\\nvariables,\\nit\\nis\\npossible\\nto\\nuse\\nthe\\nvalue\\nof\\none\\nvariable\\nto\\npredict\\nthe\\nvalue\\nof\\nthe\\nother\\nvariable.\\nThis\\ncan\\nbe\\nuseful\\nfor\\nmaking\\npredictions\\nin\\na\\nvariety\\nof\\nfields,\\nsuch\\nas\\nbusiness,\\nfinance,\\nand\\nmedicine.\\n3.\\nDevelop\\ncausal\\nmodels:\\nCorrelation\\ncan\\nbe\\nused\\nas\\na\\nstarting\\npoint\\nfor\\ndeveloping\\ncausal\\nmodels,\\nwhich\\nare\\nmodels\\nthat\\ndescribe\\nhow\\nchanges\\nin\\none\\nvariable\\ncause\\nchanges\\nin\\nother\\nvariables.\\nCausal\\nmodels\\ncan\\nbe\\nused\\nto\\nmake\\nmore\\naccurate\\npredictions\\nand\\nto\\ndevelop\\ninterventions\\nto\\nchange\\nthe\\nvalues\\nof\\nspecific\\nvariables.', metadata={'source': 'docs/stats.pdf', 'page': 0}),\n",
       " Document(page_content='Correlation\\nis\\nused\\nin\\na\\nwide\\nvariety\\nof\\nfields\\nincluding\\n1.\\nBusiness:\\nCorrelation\\ncan\\nbe\\nused\\nto\\nidentify\\nrelationships\\nbetween\\ndifferent\\nbusiness\\nvariables,\\nsuch\\nas\\nsales,\\nadvertising\\nspending,\\nand\\ncustomer\\nsatisfaction.\\nThis\\ninformation\\ncan\\nbe\\nused\\nto\\nmake\\nbetter\\nbusiness\\ndecisions,\\nsuch\\nas\\nhow\\nto\\nallocate\\nmarketing\\nresources.\\n2.\\nFinance:\\nCorrelation\\ncan\\nbe\\nused\\nto\\nidentify\\nrelationships\\nbetween\\ndifferent\\nfinancial\\nassets,\\nsuch\\nas\\nstocks,\\nbonds,\\nand\\ncommodities.\\nThis\\ninformation\\ncan\\nbe\\nused\\nto\\nbuild\\ndiversified\\nportfolios\\nthat\\nreduce\\nrisk.\\n3.\\nMedicine:\\nCorrelation\\ncan\\nbe\\nused\\nto\\nidentify\\nrelationships\\nbetween\\ndifferent\\nmedical\\nvariables,\\nsuch\\nas\\nrisk\\nfactors\\nfor\\ndiseases\\nand\\nthe\\neffectiveness\\nof\\ntreatments.\\nThis\\ninformation\\ncan\\nbe\\nused\\nto\\nimprove\\nthe\\nprevention,\\ndiagnosis,\\nand\\ntreatment\\nof\\ndiseases.\\n4.\\nPsychology:\\nCorrelation\\ncan\\nbe\\nused\\nto\\nidentify\\nrelationships\\nbetween\\ndifferent\\npsychological\\nvariables,\\nsuch\\nas\\npersonality\\ntraits,\\ncognitive\\nabilities,\\nand\\nmental\\ndisorders.\\nThis\\ninformation\\ncan\\nbe\\nused\\nto\\ndevelop\\nbetter\\npsychological\\nassessments\\nand\\ntreatments.\\nHow\\ncorrelation\\nis\\nused\\nin\\nthe\\nreal\\nworld\\n1.\\nA\\nmarketing\\nmanager\\nmight\\nuse\\ncorrelation\\nto\\nidentify\\nthe\\nrelationship\\nbetween\\nadvertising\\nspending\\nand\\nsales.\\nThis\\ninformation\\ncould\\nbe\\nused\\nto\\ndecide\\nhow\\nmuch\\nmoney\\nto\\nallocate\\nto\\nadvertising.\\n2.\\nA\\nfinancial\\nanalyst\\nmight\\nuse\\ncorrelation\\nto\\nidentify\\nthe\\nrelationship\\nbetween\\nthe\\nreturns\\nof\\ndifferent\\nstocks.\\nThis\\ninformation\\ncould\\nbe', metadata={'source': 'docs/stats.pdf', 'page': 1}),\n",
       " Document(page_content='used\\nto\\nbuild\\na\\nportfolio\\nof\\nstocks\\nthat\\nis\\ndiversified\\nand\\nhas\\na\\nlower\\noverall\\nrisk.\\n3.\\nA\\nmedical\\nresearcher\\nmight\\nuse\\ncorrelation\\nto\\nidentify\\nthe\\nrelationship\\nbetween\\nsmoking\\nand\\nlung\\ncancer.\\nThis\\ninformation\\ncould\\nbe\\nused\\nto\\ndevelop\\npublic\\nhealth\\ncampaigns\\nto\\ndiscourage\\nsmoking.\\n4.\\nA\\npsychologist\\nmight\\nuse\\ncorrelation\\nto\\nidentify\\nthe\\nrelationship\\nbetween\\nanxiety\\nand\\ndepression.\\nThis\\ninformation\\ncould\\nbe\\nused\\nto\\ndevelop\\nmore\\neffective\\ntreatments\\nfor\\nanxiety\\nand\\ndepression.\\nConclusion\\nIt\\nis\\nimportant\\nto\\nnote\\nthat\\ncorrelation\\ndoes\\nnot\\nequal\\ncausation.\\nJust\\nbecause\\ntwo\\nvariables\\nare\\ncorrelated\\ndoes\\nnot\\nmean\\nthat\\none\\nvariable\\ncauses\\nthe\\nother .\\nFor\\nexample,\\nthere\\nis\\na\\nstrong\\ncorrelation\\nbetween\\nice\\ncream\\nsales\\nand\\nshark\\nattacks.\\nHowever ,\\nthis\\ndoes\\nnot\\nmean\\nthat\\neating\\nice\\ncream\\ncauses\\nshark\\nattacks.\\nInstead,\\nthere\\nis\\nlikely\\na\\nthird\\nvariable,\\nsuch\\nas\\nhot\\nweather ,\\nthat\\ncauses\\nboth\\nice\\ncream\\nsales\\nand\\nshark\\nattacks\\nto\\nincrease.\\nOverall,\\ncorrelation\\nis\\na\\npowerful\\nstatistical\\ntool\\nthat\\ncan\\nbe\\nused\\nto\\nidentify\\nrelationships\\nbetween\\nvariables,\\nmake\\npredictions,\\nand\\ndevelop\\ncausal\\nmodels.\\nIt\\nis\\nused\\nin\\na\\nwide\\nvariety\\nof\\nfields\\nto\\nmake\\nbetter\\ndecisions\\nand\\nimprove\\noutcomes.', metadata={'source': 'docs/stats.pdf', 'page': 2})]"
      ]
     },
     "execution_count": 8,
     "metadata": {},
     "output_type": "execute_result"
    }
   ],
   "source": [
    "data"
   ]
  },
  {
   "cell_type": "code",
   "execution_count": 9,
   "metadata": {},
   "outputs": [
    {
     "data": {
      "text/plain": [
       "3"
      ]
     },
     "execution_count": 9,
     "metadata": {},
     "output_type": "execute_result"
    }
   ],
   "source": [
    "len(data)"
   ]
  },
  {
   "cell_type": "code",
   "execution_count": 10,
   "metadata": {},
   "outputs": [],
   "source": [
    "question_gen = \"\"\n",
    "\n",
    "for page in data:\n",
    "    question_gen += page.page_content"
   ]
  },
  {
   "cell_type": "code",
   "execution_count": 11,
   "metadata": {},
   "outputs": [
    {
     "data": {
      "text/plain": [
       "'Importance\\nand\\nthe\\nuse\\nof\\ncorrelation\\nin\\nStatistics\\nIntroduction\\nCorrelation\\nis\\na\\nstatistical\\nmeasure\\nthat\\nexpresses\\nthe\\nextent\\nto\\nwhich\\ntwo\\nvariables\\nare\\nlinearly\\nrelated.\\nIt\\nis\\na\\ncommon\\ntool\\nfor\\ndescribing\\nsimple\\nrelationships\\nwithout\\nmaking\\na\\nstatement\\nabout\\ncause\\nand\\neffect.\\nCorrelation\\ncoefficients\\nrange\\nfrom\\n-1\\nto\\n1,\\nwith\\na\\nvalue\\nof\\n0\\nindicating\\nno\\nlinear\\nrelationship\\nbetween\\nthe\\ntwo\\nvariables,\\na\\nvalue\\nof\\n1\\nindicating\\na\\nperfect\\npositive\\nlinear\\nrelationship,\\nand\\na\\nvalue\\nof\\n-1\\nindicating\\na\\nperfect\\nnegative\\nlinear\\nrelationship.\\nCorrelation\\nis\\nimportant\\nin\\nstatistics\\nbecause\\nit\\ncan\\nbe\\nused\\nto\\n1.\\nIdentify\\nrelationships\\nbetween\\nvariables:\\nCorrelation\\ncan\\nbe\\nused\\nto\\nidentify\\nwhether\\nthere\\nis\\na\\nrelationship\\nbetween\\ntwo\\nvariables,\\nand\\nif\\nso,\\nwhether\\nthe\\nrelationship\\nis\\npositive\\nor\\nnegative.\\nThis\\ninformation\\ncan\\nbe\\nuseful\\nfor\\nunderstanding\\nthe\\nrelationships\\nbetween\\ndifferent\\nfactors\\nin\\na\\ncomplex\\nsystem.\\n2.\\nMake\\npredictions:\\nIf\\nthere\\nis\\na\\nstrong\\ncorrelation\\nbetween\\ntwo\\nvariables,\\nit\\nis\\npossible\\nto\\nuse\\nthe\\nvalue\\nof\\none\\nvariable\\nto\\npredict\\nthe\\nvalue\\nof\\nthe\\nother\\nvariable.\\nThis\\ncan\\nbe\\nuseful\\nfor\\nmaking\\npredictions\\nin\\na\\nvariety\\nof\\nfields,\\nsuch\\nas\\nbusiness,\\nfinance,\\nand\\nmedicine.\\n3.\\nDevelop\\ncausal\\nmodels:\\nCorrelation\\ncan\\nbe\\nused\\nas\\na\\nstarting\\npoint\\nfor\\ndeveloping\\ncausal\\nmodels,\\nwhich\\nare\\nmodels\\nthat\\ndescribe\\nhow\\nchanges\\nin\\none\\nvariable\\ncause\\nchanges\\nin\\nother\\nvariables.\\nCausal\\nmodels\\ncan\\nbe\\nused\\nto\\nmake\\nmore\\naccurate\\npredictions\\nand\\nto\\ndevelop\\ninterventions\\nto\\nchange\\nthe\\nvalues\\nof\\nspecific\\nvariables.Correlation\\nis\\nused\\nin\\na\\nwide\\nvariety\\nof\\nfields\\nincluding\\n1.\\nBusiness:\\nCorrelation\\ncan\\nbe\\nused\\nto\\nidentify\\nrelationships\\nbetween\\ndifferent\\nbusiness\\nvariables,\\nsuch\\nas\\nsales,\\nadvertising\\nspending,\\nand\\ncustomer\\nsatisfaction.\\nThis\\ninformation\\ncan\\nbe\\nused\\nto\\nmake\\nbetter\\nbusiness\\ndecisions,\\nsuch\\nas\\nhow\\nto\\nallocate\\nmarketing\\nresources.\\n2.\\nFinance:\\nCorrelation\\ncan\\nbe\\nused\\nto\\nidentify\\nrelationships\\nbetween\\ndifferent\\nfinancial\\nassets,\\nsuch\\nas\\nstocks,\\nbonds,\\nand\\ncommodities.\\nThis\\ninformation\\ncan\\nbe\\nused\\nto\\nbuild\\ndiversified\\nportfolios\\nthat\\nreduce\\nrisk.\\n3.\\nMedicine:\\nCorrelation\\ncan\\nbe\\nused\\nto\\nidentify\\nrelationships\\nbetween\\ndifferent\\nmedical\\nvariables,\\nsuch\\nas\\nrisk\\nfactors\\nfor\\ndiseases\\nand\\nthe\\neffectiveness\\nof\\ntreatments.\\nThis\\ninformation\\ncan\\nbe\\nused\\nto\\nimprove\\nthe\\nprevention,\\ndiagnosis,\\nand\\ntreatment\\nof\\ndiseases.\\n4.\\nPsychology:\\nCorrelation\\ncan\\nbe\\nused\\nto\\nidentify\\nrelationships\\nbetween\\ndifferent\\npsychological\\nvariables,\\nsuch\\nas\\npersonality\\ntraits,\\ncognitive\\nabilities,\\nand\\nmental\\ndisorders.\\nThis\\ninformation\\ncan\\nbe\\nused\\nto\\ndevelop\\nbetter\\npsychological\\nassessments\\nand\\ntreatments.\\nHow\\ncorrelation\\nis\\nused\\nin\\nthe\\nreal\\nworld\\n1.\\nA\\nmarketing\\nmanager\\nmight\\nuse\\ncorrelation\\nto\\nidentify\\nthe\\nrelationship\\nbetween\\nadvertising\\nspending\\nand\\nsales.\\nThis\\ninformation\\ncould\\nbe\\nused\\nto\\ndecide\\nhow\\nmuch\\nmoney\\nto\\nallocate\\nto\\nadvertising.\\n2.\\nA\\nfinancial\\nanalyst\\nmight\\nuse\\ncorrelation\\nto\\nidentify\\nthe\\nrelationship\\nbetween\\nthe\\nreturns\\nof\\ndifferent\\nstocks.\\nThis\\ninformation\\ncould\\nbeused\\nto\\nbuild\\na\\nportfolio\\nof\\nstocks\\nthat\\nis\\ndiversified\\nand\\nhas\\na\\nlower\\noverall\\nrisk.\\n3.\\nA\\nmedical\\nresearcher\\nmight\\nuse\\ncorrelation\\nto\\nidentify\\nthe\\nrelationship\\nbetween\\nsmoking\\nand\\nlung\\ncancer.\\nThis\\ninformation\\ncould\\nbe\\nused\\nto\\ndevelop\\npublic\\nhealth\\ncampaigns\\nto\\ndiscourage\\nsmoking.\\n4.\\nA\\npsychologist\\nmight\\nuse\\ncorrelation\\nto\\nidentify\\nthe\\nrelationship\\nbetween\\nanxiety\\nand\\ndepression.\\nThis\\ninformation\\ncould\\nbe\\nused\\nto\\ndevelop\\nmore\\neffective\\ntreatments\\nfor\\nanxiety\\nand\\ndepression.\\nConclusion\\nIt\\nis\\nimportant\\nto\\nnote\\nthat\\ncorrelation\\ndoes\\nnot\\nequal\\ncausation.\\nJust\\nbecause\\ntwo\\nvariables\\nare\\ncorrelated\\ndoes\\nnot\\nmean\\nthat\\none\\nvariable\\ncauses\\nthe\\nother .\\nFor\\nexample,\\nthere\\nis\\na\\nstrong\\ncorrelation\\nbetween\\nice\\ncream\\nsales\\nand\\nshark\\nattacks.\\nHowever ,\\nthis\\ndoes\\nnot\\nmean\\nthat\\neating\\nice\\ncream\\ncauses\\nshark\\nattacks.\\nInstead,\\nthere\\nis\\nlikely\\na\\nthird\\nvariable,\\nsuch\\nas\\nhot\\nweather ,\\nthat\\ncauses\\nboth\\nice\\ncream\\nsales\\nand\\nshark\\nattacks\\nto\\nincrease.\\nOverall,\\ncorrelation\\nis\\na\\npowerful\\nstatistical\\ntool\\nthat\\ncan\\nbe\\nused\\nto\\nidentify\\nrelationships\\nbetween\\nvariables,\\nmake\\npredictions,\\nand\\ndevelop\\ncausal\\nmodels.\\nIt\\nis\\nused\\nin\\na\\nwide\\nvariety\\nof\\nfields\\nto\\nmake\\nbetter\\ndecisions\\nand\\nimprove\\noutcomes.'"
      ]
     },
     "execution_count": 11,
     "metadata": {},
     "output_type": "execute_result"
    }
   ],
   "source": [
    "question_gen"
   ]
  },
  {
   "cell_type": "code",
   "execution_count": 12,
   "metadata": {},
   "outputs": [],
   "source": [
    "from langchain.text_splitter import TokenTextSplitter"
   ]
  },
  {
   "cell_type": "code",
   "execution_count": 13,
   "metadata": {},
   "outputs": [],
   "source": [
    "splitter_ques_gen = TokenTextSplitter(model_name=\"gpt-3.5-turbo\",chunk_size=10000,chunk_overlap=200)"
   ]
  },
  {
   "cell_type": "code",
   "execution_count": 14,
   "metadata": {},
   "outputs": [],
   "source": [
    "chunk_ques_gen =splitter_ques_gen.split_text(question_gen)"
   ]
  },
  {
   "cell_type": "code",
   "execution_count": 15,
   "metadata": {},
   "outputs": [
    {
     "data": {
      "text/plain": [
       "1"
      ]
     },
     "execution_count": 15,
     "metadata": {},
     "output_type": "execute_result"
    }
   ],
   "source": [
    "len(chunk_ques_gen)"
   ]
  },
  {
   "cell_type": "code",
   "execution_count": 16,
   "metadata": {},
   "outputs": [
    {
     "data": {
      "text/plain": [
       "str"
      ]
     },
     "execution_count": 16,
     "metadata": {},
     "output_type": "execute_result"
    }
   ],
   "source": [
    "type(chunk_ques_gen[0])"
   ]
  },
  {
   "cell_type": "code",
   "execution_count": 17,
   "metadata": {},
   "outputs": [],
   "source": [
    "from langchain.docstore.document import Document\n",
    "document_ques_gen = [Document(page_content=t) for t in chunk_ques_gen]"
   ]
  },
  {
   "cell_type": "code",
   "execution_count": 18,
   "metadata": {},
   "outputs": [
    {
     "data": {
      "text/plain": [
       "langchain_core.documents.base.Document"
      ]
     },
     "execution_count": 18,
     "metadata": {},
     "output_type": "execute_result"
    }
   ],
   "source": [
    "type(document_ques_gen[0])"
   ]
  },
  {
   "cell_type": "code",
   "execution_count": 19,
   "metadata": {},
   "outputs": [],
   "source": [
    "splitter_ans_gen = TokenTextSplitter(model_name=\"gpt-3.5-turbo\",chunk_size=10000,chunk_overlap=200)"
   ]
  },
  {
   "cell_type": "code",
   "execution_count": 20,
   "metadata": {},
   "outputs": [],
   "source": [
    "chunk_ans_gen =splitter_ans_gen.split_text(question_gen)"
   ]
  },
  {
   "cell_type": "code",
   "execution_count": 21,
   "metadata": {},
   "outputs": [
    {
     "data": {
      "text/plain": [
       "4159"
      ]
     },
     "execution_count": 21,
     "metadata": {},
     "output_type": "execute_result"
    }
   ],
   "source": [
    "len(chunk_ans_gen[0])"
   ]
  },
  {
   "cell_type": "code",
   "execution_count": 22,
   "metadata": {},
   "outputs": [],
   "source": [
    "document_ans_gen = [Document(page_content=t) for t in chunk_ans_gen]"
   ]
  },
  {
   "cell_type": "code",
   "execution_count": 23,
   "metadata": {},
   "outputs": [],
   "source": [
    "from langchain.chat_models import ChatOpenAI"
   ]
  },
  {
   "cell_type": "code",
   "execution_count": 24,
   "metadata": {},
   "outputs": [
    {
     "name": "stderr",
     "output_type": "stream",
     "text": [
      "c:\\Users\\Rajmohan\\Anaconda3\\envs\\interview\\lib\\site-packages\\langchain_core\\_api\\deprecation.py:119: LangChainDeprecationWarning: The class `ChatOpenAI` was deprecated in LangChain 0.0.10 and will be removed in 0.3.0. An updated version of the class exists in the langchain-openai package and should be used instead. To use it run `pip install -U langchain-openai` and import as `from langchain_openai import ChatOpenAI`.\n",
      "  warn_deprecated(\n"
     ]
    }
   ],
   "source": [
    "llm_ques_gen_pipeline =ChatOpenAI(model='gpt-3.5-turbo',temperature=0.3)"
   ]
  },
  {
   "cell_type": "code",
   "execution_count": 46,
   "metadata": {},
   "outputs": [],
   "source": [
    "Prompt_template =\"\"\"\n",
    "\n",
    "You are an expert at creating questions based on coding materials and documentation.\n",
    "Your goal is to prepare a coder or programmer for their exam and coding tests.\n",
    "You do this by asking questions about the text below:\n",
    "\n",
    "------------\n",
    "{text}\n",
    "------------\n",
    "\n",
    "Create questions that will prepare the coders or programmers for their tests.\n",
    "Make sure not to lose any important information.\n",
    "\n",
    "QUESTIONS:\n",
    "\"\"\"\n"
   ]
  },
  {
   "cell_type": "code",
   "execution_count": 30,
   "metadata": {},
   "outputs": [],
   "source": [
    "from langchain.prompts import PromptTemplate"
   ]
  },
  {
   "cell_type": "code",
   "execution_count": 48,
   "metadata": {},
   "outputs": [],
   "source": [
    "PROMPT_QUESTIONS = PromptTemplate(template=Prompt_template, input_variables=['text'])"
   ]
  },
  {
   "cell_type": "code",
   "execution_count": 33,
   "metadata": {},
   "outputs": [],
   "source": [
    "refine_template = (\"\"\"\n",
    "You are an expert at creating practice questions based on coding material and documentation.\n",
    "Your goal is to help a coder or programmer prepare for a coding test.\n",
    "We have received some practice questions to a certain extent: {existing_answer}.\n",
    "We have the option to refine the existing questions or add new ones.\n",
    "(only if necessary) with some more context below.\n",
    "------------\n",
    "{text}\n",
    "------------\n",
    "\n",
    "Given the new context, refine the original questions in English.\n",
    "If the context is not helpful, please provide the original questions.\n",
    "QUESTIONS:\n",
    "\"\"\"\n",
    ")"
   ]
  },
  {
   "cell_type": "code",
   "execution_count": 34,
   "metadata": {},
   "outputs": [],
   "source": [
    "REFINE_PROMPT_QUESTIONS = PromptTemplate(\n",
    "    input_variables=[\"existing_answer\", \"text\"],\n",
    "    template=refine_template,\n",
    ")"
   ]
  },
  {
   "cell_type": "code",
   "execution_count": 35,
   "metadata": {},
   "outputs": [],
   "source": [
    "from langchain.chains.summarize import load_summarize_chain"
   ]
  },
  {
   "cell_type": "code",
   "execution_count": 49,
   "metadata": {},
   "outputs": [],
   "source": [
    "ques_gen_chain = load_summarize_chain(llm = llm_ques_gen_pipeline, \n",
    "                                          chain_type = \"refine\", \n",
    "                                          verbose = True, \n",
    "                                          question_prompt=PROMPT_QUESTIONS, \n",
    "                                          refine_prompt=REFINE_PROMPT_QUESTIONS)"
   ]
  },
  {
   "cell_type": "code",
   "execution_count": 50,
   "metadata": {},
   "outputs": [
    {
     "name": "stderr",
     "output_type": "stream",
     "text": [
      "c:\\Users\\Rajmohan\\Anaconda3\\envs\\interview\\lib\\site-packages\\langchain_core\\_api\\deprecation.py:119: LangChainDeprecationWarning: The method `Chain.run` was deprecated in langchain 0.1.0 and will be removed in 0.3.0. Use invoke instead.\n",
      "  warn_deprecated(\n"
     ]
    },
    {
     "name": "stdout",
     "output_type": "stream",
     "text": [
      "\n",
      "\n",
      "\u001b[1m> Entering new RefineDocumentsChain chain...\u001b[0m\n",
      "\n",
      "\n",
      "\u001b[1m> Entering new LLMChain chain...\u001b[0m\n",
      "Prompt after formatting:\n",
      "\u001b[32;1m\u001b[1;3m\n",
      "\n",
      "You are an expert at creating questions based on coding materials and documentation.\n",
      "Your goal is to prepare a coder or programmer for their exam and coding tests.\n",
      "You do this by asking questions about the text below:\n",
      "\n",
      "------------\n",
      "Importance\n",
      "and\n",
      "the\n",
      "use\n",
      "of\n",
      "correlation\n",
      "in\n",
      "Statistics\n",
      "Introduction\n",
      "Correlation\n",
      "is\n",
      "a\n",
      "statistical\n",
      "measure\n",
      "that\n",
      "expresses\n",
      "the\n",
      "extent\n",
      "to\n",
      "which\n",
      "two\n",
      "variables\n",
      "are\n",
      "linearly\n",
      "related.\n",
      "It\n",
      "is\n",
      "a\n",
      "common\n",
      "tool\n",
      "for\n",
      "describing\n",
      "simple\n",
      "relationships\n",
      "without\n",
      "making\n",
      "a\n",
      "statement\n",
      "about\n",
      "cause\n",
      "and\n",
      "effect.\n",
      "Correlation\n",
      "coefficients\n",
      "range\n",
      "from\n",
      "-1\n",
      "to\n",
      "1,\n",
      "with\n",
      "a\n",
      "value\n",
      "of\n",
      "0\n",
      "indicating\n",
      "no\n",
      "linear\n",
      "relationship\n",
      "between\n",
      "the\n",
      "two\n",
      "variables,\n",
      "a\n",
      "value\n",
      "of\n",
      "1\n",
      "indicating\n",
      "a\n",
      "perfect\n",
      "positive\n",
      "linear\n",
      "relationship,\n",
      "and\n",
      "a\n",
      "value\n",
      "of\n",
      "-1\n",
      "indicating\n",
      "a\n",
      "perfect\n",
      "negative\n",
      "linear\n",
      "relationship.\n",
      "Correlation\n",
      "is\n",
      "important\n",
      "in\n",
      "statistics\n",
      "because\n",
      "it\n",
      "can\n",
      "be\n",
      "used\n",
      "to\n",
      "1.\n",
      "Identify\n",
      "relationships\n",
      "between\n",
      "variables:\n",
      "Correlation\n",
      "can\n",
      "be\n",
      "used\n",
      "to\n",
      "identify\n",
      "whether\n",
      "there\n",
      "is\n",
      "a\n",
      "relationship\n",
      "between\n",
      "two\n",
      "variables,\n",
      "and\n",
      "if\n",
      "so,\n",
      "whether\n",
      "the\n",
      "relationship\n",
      "is\n",
      "positive\n",
      "or\n",
      "negative.\n",
      "This\n",
      "information\n",
      "can\n",
      "be\n",
      "useful\n",
      "for\n",
      "understanding\n",
      "the\n",
      "relationships\n",
      "between\n",
      "different\n",
      "factors\n",
      "in\n",
      "a\n",
      "complex\n",
      "system.\n",
      "2.\n",
      "Make\n",
      "predictions:\n",
      "If\n",
      "there\n",
      "is\n",
      "a\n",
      "strong\n",
      "correlation\n",
      "between\n",
      "two\n",
      "variables,\n",
      "it\n",
      "is\n",
      "possible\n",
      "to\n",
      "use\n",
      "the\n",
      "value\n",
      "of\n",
      "one\n",
      "variable\n",
      "to\n",
      "predict\n",
      "the\n",
      "value\n",
      "of\n",
      "the\n",
      "other\n",
      "variable.\n",
      "This\n",
      "can\n",
      "be\n",
      "useful\n",
      "for\n",
      "making\n",
      "predictions\n",
      "in\n",
      "a\n",
      "variety\n",
      "of\n",
      "fields,\n",
      "such\n",
      "as\n",
      "business,\n",
      "finance,\n",
      "and\n",
      "medicine.\n",
      "3.\n",
      "Develop\n",
      "causal\n",
      "models:\n",
      "Correlation\n",
      "can\n",
      "be\n",
      "used\n",
      "as\n",
      "a\n",
      "starting\n",
      "point\n",
      "for\n",
      "developing\n",
      "causal\n",
      "models,\n",
      "which\n",
      "are\n",
      "models\n",
      "that\n",
      "describe\n",
      "how\n",
      "changes\n",
      "in\n",
      "one\n",
      "variable\n",
      "cause\n",
      "changes\n",
      "in\n",
      "other\n",
      "variables.\n",
      "Causal\n",
      "models\n",
      "can\n",
      "be\n",
      "used\n",
      "to\n",
      "make\n",
      "more\n",
      "accurate\n",
      "predictions\n",
      "and\n",
      "to\n",
      "develop\n",
      "interventions\n",
      "to\n",
      "change\n",
      "the\n",
      "values\n",
      "of\n",
      "specific\n",
      "variables.Correlation\n",
      "is\n",
      "used\n",
      "in\n",
      "a\n",
      "wide\n",
      "variety\n",
      "of\n",
      "fields\n",
      "including\n",
      "1.\n",
      "Business:\n",
      "Correlation\n",
      "can\n",
      "be\n",
      "used\n",
      "to\n",
      "identify\n",
      "relationships\n",
      "between\n",
      "different\n",
      "business\n",
      "variables,\n",
      "such\n",
      "as\n",
      "sales,\n",
      "advertising\n",
      "spending,\n",
      "and\n",
      "customer\n",
      "satisfaction.\n",
      "This\n",
      "information\n",
      "can\n",
      "be\n",
      "used\n",
      "to\n",
      "make\n",
      "better\n",
      "business\n",
      "decisions,\n",
      "such\n",
      "as\n",
      "how\n",
      "to\n",
      "allocate\n",
      "marketing\n",
      "resources.\n",
      "2.\n",
      "Finance:\n",
      "Correlation\n",
      "can\n",
      "be\n",
      "used\n",
      "to\n",
      "identify\n",
      "relationships\n",
      "between\n",
      "different\n",
      "financial\n",
      "assets,\n",
      "such\n",
      "as\n",
      "stocks,\n",
      "bonds,\n",
      "and\n",
      "commodities.\n",
      "This\n",
      "information\n",
      "can\n",
      "be\n",
      "used\n",
      "to\n",
      "build\n",
      "diversified\n",
      "portfolios\n",
      "that\n",
      "reduce\n",
      "risk.\n",
      "3.\n",
      "Medicine:\n",
      "Correlation\n",
      "can\n",
      "be\n",
      "used\n",
      "to\n",
      "identify\n",
      "relationships\n",
      "between\n",
      "different\n",
      "medical\n",
      "variables,\n",
      "such\n",
      "as\n",
      "risk\n",
      "factors\n",
      "for\n",
      "diseases\n",
      "and\n",
      "the\n",
      "effectiveness\n",
      "of\n",
      "treatments.\n",
      "This\n",
      "information\n",
      "can\n",
      "be\n",
      "used\n",
      "to\n",
      "improve\n",
      "the\n",
      "prevention,\n",
      "diagnosis,\n",
      "and\n",
      "treatment\n",
      "of\n",
      "diseases.\n",
      "4.\n",
      "Psychology:\n",
      "Correlation\n",
      "can\n",
      "be\n",
      "used\n",
      "to\n",
      "identify\n",
      "relationships\n",
      "between\n",
      "different\n",
      "psychological\n",
      "variables,\n",
      "such\n",
      "as\n",
      "personality\n",
      "traits,\n",
      "cognitive\n",
      "abilities,\n",
      "and\n",
      "mental\n",
      "disorders.\n",
      "This\n",
      "information\n",
      "can\n",
      "be\n",
      "used\n",
      "to\n",
      "develop\n",
      "better\n",
      "psychological\n",
      "assessments\n",
      "and\n",
      "treatments.\n",
      "How\n",
      "correlation\n",
      "is\n",
      "used\n",
      "in\n",
      "the\n",
      "real\n",
      "world\n",
      "1.\n",
      "A\n",
      "marketing\n",
      "manager\n",
      "might\n",
      "use\n",
      "correlation\n",
      "to\n",
      "identify\n",
      "the\n",
      "relationship\n",
      "between\n",
      "advertising\n",
      "spending\n",
      "and\n",
      "sales.\n",
      "This\n",
      "information\n",
      "could\n",
      "be\n",
      "used\n",
      "to\n",
      "decide\n",
      "how\n",
      "much\n",
      "money\n",
      "to\n",
      "allocate\n",
      "to\n",
      "advertising.\n",
      "2.\n",
      "A\n",
      "financial\n",
      "analyst\n",
      "might\n",
      "use\n",
      "correlation\n",
      "to\n",
      "identify\n",
      "the\n",
      "relationship\n",
      "between\n",
      "the\n",
      "returns\n",
      "of\n",
      "different\n",
      "stocks.\n",
      "This\n",
      "information\n",
      "could\n",
      "beused\n",
      "to\n",
      "build\n",
      "a\n",
      "portfolio\n",
      "of\n",
      "stocks\n",
      "that\n",
      "is\n",
      "diversified\n",
      "and\n",
      "has\n",
      "a\n",
      "lower\n",
      "overall\n",
      "risk.\n",
      "3.\n",
      "A\n",
      "medical\n",
      "researcher\n",
      "might\n",
      "use\n",
      "correlation\n",
      "to\n",
      "identify\n",
      "the\n",
      "relationship\n",
      "between\n",
      "smoking\n",
      "and\n",
      "lung\n",
      "cancer.\n",
      "This\n",
      "information\n",
      "could\n",
      "be\n",
      "used\n",
      "to\n",
      "develop\n",
      "public\n",
      "health\n",
      "campaigns\n",
      "to\n",
      "discourage\n",
      "smoking.\n",
      "4.\n",
      "A\n",
      "psychologist\n",
      "might\n",
      "use\n",
      "correlation\n",
      "to\n",
      "identify\n",
      "the\n",
      "relationship\n",
      "between\n",
      "anxiety\n",
      "and\n",
      "depression.\n",
      "This\n",
      "information\n",
      "could\n",
      "be\n",
      "used\n",
      "to\n",
      "develop\n",
      "more\n",
      "effective\n",
      "treatments\n",
      "for\n",
      "anxiety\n",
      "and\n",
      "depression.\n",
      "Conclusion\n",
      "It\n",
      "is\n",
      "important\n",
      "to\n",
      "note\n",
      "that\n",
      "correlation\n",
      "does\n",
      "not\n",
      "equal\n",
      "causation.\n",
      "Just\n",
      "because\n",
      "two\n",
      "variables\n",
      "are\n",
      "correlated\n",
      "does\n",
      "not\n",
      "mean\n",
      "that\n",
      "one\n",
      "variable\n",
      "causes\n",
      "the\n",
      "other .\n",
      "For\n",
      "example,\n",
      "there\n",
      "is\n",
      "a\n",
      "strong\n",
      "correlation\n",
      "between\n",
      "ice\n",
      "cream\n",
      "sales\n",
      "and\n",
      "shark\n",
      "attacks.\n",
      "However ,\n",
      "this\n",
      "does\n",
      "not\n",
      "mean\n",
      "that\n",
      "eating\n",
      "ice\n",
      "cream\n",
      "causes\n",
      "shark\n",
      "attacks.\n",
      "Instead,\n",
      "there\n",
      "is\n",
      "likely\n",
      "a\n",
      "third\n",
      "variable,\n",
      "such\n",
      "as\n",
      "hot\n",
      "weather ,\n",
      "that\n",
      "causes\n",
      "both\n",
      "ice\n",
      "cream\n",
      "sales\n",
      "and\n",
      "shark\n",
      "attacks\n",
      "to\n",
      "increase.\n",
      "Overall,\n",
      "correlation\n",
      "is\n",
      "a\n",
      "powerful\n",
      "statistical\n",
      "tool\n",
      "that\n",
      "can\n",
      "be\n",
      "used\n",
      "to\n",
      "identify\n",
      "relationships\n",
      "between\n",
      "variables,\n",
      "make\n",
      "predictions,\n",
      "and\n",
      "develop\n",
      "causal\n",
      "models.\n",
      "It\n",
      "is\n",
      "used\n",
      "in\n",
      "a\n",
      "wide\n",
      "variety\n",
      "of\n",
      "fields\n",
      "to\n",
      "make\n",
      "better\n",
      "decisions\n",
      "and\n",
      "improve\n",
      "outcomes.\n",
      "------------\n",
      "\n",
      "Create questions that will prepare the coders or programmers for their tests.\n",
      "Make sure not to lose any important information.\n",
      "\n",
      "QUESTIONS:\n",
      "\u001b[0m\n",
      "\n",
      "\u001b[1m> Finished chain.\u001b[0m\n",
      "\n",
      "\u001b[1m> Finished chain.\u001b[0m\n",
      "1. What is correlation in statistics and how is it measured?\n",
      "2. Explain the importance of correlation in statistics and give examples of how it can be used.\n",
      "3. How does correlation differ from causation? Provide an example to illustrate this difference.\n",
      "4. In what fields is correlation commonly used and how does it benefit decision-making in those fields?\n",
      "5. How can correlation be used to make predictions and develop causal models?\n",
      "6. Give examples of real-world scenarios where correlation analysis can be applied in marketing, finance, medicine, and psychology.\n",
      "7. Why is it important to understand that correlation does not imply causation? Provide an example to support your explanation.\n",
      "8. How does a strong correlation between two variables help in making decisions and improving outcomes in various fields?\n",
      "9. Discuss the range of correlation coefficients and what each value indicates in terms of the relationship between variables.\n",
      "10. How can correlation analysis help in identifying relationships between variables and understanding complex systems?\n"
     ]
    }
   ],
   "source": [
    "ques = ques_gen_chain.run(document_ques_gen)\n",
    "\n",
    "print(ques)"
   ]
  },
  {
   "cell_type": "code",
   "execution_count": 36,
   "metadata": {},
   "outputs": [],
   "source": [
    "from langchain.embeddings.openai import OpenAIEmbeddings"
   ]
  },
  {
   "cell_type": "code",
   "execution_count": 37,
   "metadata": {},
   "outputs": [
    {
     "name": "stderr",
     "output_type": "stream",
     "text": [
      "c:\\Users\\Rajmohan\\Anaconda3\\envs\\interview\\lib\\site-packages\\langchain_core\\_api\\deprecation.py:119: LangChainDeprecationWarning: The class `OpenAIEmbeddings` was deprecated in LangChain 0.0.9 and will be removed in 0.3.0. An updated version of the class exists in the langchain-openai package and should be used instead. To use it run `pip install -U langchain-openai` and import as `from langchain_openai import OpenAIEmbeddings`.\n",
      "  warn_deprecated(\n"
     ]
    }
   ],
   "source": [
    "embeddings = OpenAIEmbeddings()"
   ]
  },
  {
   "cell_type": "code",
   "execution_count": 38,
   "metadata": {},
   "outputs": [],
   "source": [
    "from langchain.vectorstores import FAISS"
   ]
  },
  {
   "cell_type": "code",
   "execution_count": 39,
   "metadata": {},
   "outputs": [],
   "source": [
    "vector_store = FAISS.from_documents(document_ans_gen,embeddings)"
   ]
  },
  {
   "cell_type": "code",
   "execution_count": 40,
   "metadata": {},
   "outputs": [
    {
     "data": {
      "text/plain": [
       "<langchain_community.vectorstores.faiss.FAISS at 0x1be547aaa30>"
      ]
     },
     "execution_count": 40,
     "metadata": {},
     "output_type": "execute_result"
    }
   ],
   "source": [
    "vector_store"
   ]
  },
  {
   "cell_type": "code",
   "execution_count": 43,
   "metadata": {},
   "outputs": [],
   "source": [
    "llm_answer_gen =ChatOpenAI(temperature=0.1,model='gpt-3.5-turbo')"
   ]
  },
  {
   "cell_type": "code",
   "execution_count": 51,
   "metadata": {},
   "outputs": [
    {
     "data": {
      "text/plain": [
       "'1. What is correlation in statistics and how is it measured?\\n2. Explain the importance of correlation in statistics and give examples of how it can be used.\\n3. How does correlation differ from causation? Provide an example to illustrate this difference.\\n4. In what fields is correlation commonly used and how does it benefit decision-making in those fields?\\n5. How can correlation be used to make predictions and develop causal models?\\n6. Give examples of real-world scenarios where correlation analysis can be applied in marketing, finance, medicine, and psychology.\\n7. Why is it important to understand that correlation does not imply causation? Provide an example to support your explanation.\\n8. How does a strong correlation between two variables help in making decisions and improving outcomes in various fields?\\n9. Discuss the range of correlation coefficients and what each value indicates in terms of the relationship between variables.\\n10. How can correlation analysis help in identifying relationships between variables and understanding complex systems?'"
      ]
     },
     "execution_count": 51,
     "metadata": {},
     "output_type": "execute_result"
    }
   ],
   "source": [
    "ques"
   ]
  },
  {
   "cell_type": "code",
   "execution_count": 52,
   "metadata": {},
   "outputs": [],
   "source": [
    "ques_list = ques.split(\"\\n\")"
   ]
  },
  {
   "cell_type": "code",
   "execution_count": 53,
   "metadata": {},
   "outputs": [
    {
     "data": {
      "text/plain": [
       "['1. What is correlation in statistics and how is it measured?',\n",
       " '2. Explain the importance of correlation in statistics and give examples of how it can be used.',\n",
       " '3. How does correlation differ from causation? Provide an example to illustrate this difference.',\n",
       " '4. In what fields is correlation commonly used and how does it benefit decision-making in those fields?',\n",
       " '5. How can correlation be used to make predictions and develop causal models?',\n",
       " '6. Give examples of real-world scenarios where correlation analysis can be applied in marketing, finance, medicine, and psychology.',\n",
       " '7. Why is it important to understand that correlation does not imply causation? Provide an example to support your explanation.',\n",
       " '8. How does a strong correlation between two variables help in making decisions and improving outcomes in various fields?',\n",
       " '9. Discuss the range of correlation coefficients and what each value indicates in terms of the relationship between variables.',\n",
       " '10. How can correlation analysis help in identifying relationships between variables and understanding complex systems?']"
      ]
     },
     "execution_count": 53,
     "metadata": {},
     "output_type": "execute_result"
    }
   ],
   "source": [
    "ques_list"
   ]
  },
  {
   "cell_type": "code",
   "execution_count": 41,
   "metadata": {},
   "outputs": [],
   "source": [
    "from langchain.chains import RetrievalQA"
   ]
  },
  {
   "cell_type": "code",
   "execution_count": 54,
   "metadata": {},
   "outputs": [],
   "source": [
    "answer_generation_chain = RetrievalQA.from_chain_type(llm=llm_answer_gen, \n",
    "                                               chain_type=\"stuff\", \n",
    "                                               retriever=vector_store.as_retriever())"
   ]
  },
  {
   "cell_type": "code",
   "execution_count": 55,
   "metadata": {},
   "outputs": [
    {
     "name": "stdout",
     "output_type": "stream",
     "text": [
      "Question:  1. What is correlation in statistics and how is it measured?\n",
      "Answer:  Correlation in statistics is a measure that expresses the extent to which two variables are linearly related. It is a statistical tool used to describe simple relationships between variables without making a statement about cause and effect. Correlation coefficients range from -1 to 1, with 0 indicating no linear relationship, 1 indicating a perfect positive linear relationship, and -1 indicating a perfect negative linear relationship.\n",
      "--------------------------------------------------\\n\\n\n",
      "Question:  2. Explain the importance of correlation in statistics and give examples of how it can be used.\n",
      "Answer:  The importance of correlation in statistics lies in its ability to identify relationships between variables, make predictions, and develop causal models. For example, in business, correlation can help identify relationships between sales and advertising spending to make better marketing decisions. In finance, it can be used to build diversified portfolios by identifying relationships between different financial assets like stocks and bonds. In medicine, correlation can help identify relationships between risk factors and diseases to improve prevention and treatment strategies. In psychology, it can be used to understand relationships between psychological variables like personality traits and mental disorders to develop better assessments and treatments. Overall, correlation is a powerful tool that can be applied across various fields to enhance decision-making and outcomes.\n",
      "--------------------------------------------------\\n\\n\n",
      "Question:  3. How does correlation differ from causation? Provide an example to illustrate this difference.\n",
      "Answer:  Correlation is a statistical measure that expresses the extent to which two variables are linearly related, while causation refers to the relationship between cause and effect, indicating that one variable directly influences the other. \n",
      "\n",
      "An example to illustrate the difference between correlation and causation is the relationship between ice cream sales and shark attacks. There is a strong correlation between the two variables, meaning that as ice cream sales increase, so do shark attacks. However, this does not mean that eating ice cream causes shark attacks. In reality, the correlation between these two variables is likely due to a third variable, such as hot weather, which influences both ice cream sales and shark attacks independently. This example highlights that correlation does not imply causation.\n",
      "--------------------------------------------------\\n\\n\n",
      "Question:  4. In what fields is correlation commonly used and how does it benefit decision-making in those fields?\n",
      "Answer:  Correlation is commonly used in various fields such as business, finance, medicine, and psychology. In business, correlation helps identify relationships between variables like sales and advertising spending, aiding in better resource allocation decisions. In finance, it assists in identifying relationships between financial assets to build diversified portfolios and reduce risk. In medicine, correlation helps identify relationships between medical variables to improve disease prevention, diagnosis, and treatment. In psychology, it helps identify relationships between psychological variables to develop better assessments and treatments. In all these fields, correlation benefits decision-making by providing insights into relationships between variables, enabling predictions, and aiding in the development of causal models for more accurate outcomes.\n",
      "--------------------------------------------------\\n\\n\n",
      "Question:  5. How can correlation be used to make predictions and develop causal models?\n",
      "Answer:  Correlation can be used to make predictions by identifying a strong correlation between two variables. If a strong correlation exists, the value of one variable can be used to predict the value of the other variable. This predictive power can be applied in various fields like business, finance, and medicine to forecast outcomes based on known relationships.\n",
      "\n",
      "Additionally, correlation can be used as a starting point for developing causal models. By understanding the relationship between variables through correlation, researchers can further investigate and establish causal relationships. Causal models describe how changes in one variable cause changes in other variables, leading to more accurate predictions and the development of interventions to influence specific variables.\n",
      "--------------------------------------------------\\n\\n\n",
      "Question:  6. Give examples of real-world scenarios where correlation analysis can be applied in marketing, finance, medicine, and psychology.\n",
      "Answer:  In marketing, correlation analysis can be applied to understand the relationship between advertising spending and sales, helping marketing managers decide on budget allocation. In finance, it can be used to identify the relationship between the returns of different stocks to build diversified portfolios. In medicine, correlation analysis can help identify the relationship between risk factors and diseases to improve prevention and treatment strategies. In psychology, it can be used to explore the relationship between psychological variables like personality traits and mental disorders to enhance assessments and treatments.\n",
      "--------------------------------------------------\\n\\n\n",
      "Question:  7. Why is it important to understand that correlation does not imply causation? Provide an example to support your explanation.\n",
      "Answer:  It is important to understand that correlation does not imply causation because just because two variables are correlated, it does not mean that one variable causes the other. For example, there is a strong correlation between the number of firefighters at a fire and the amount of damage caused by the fire. However, this does not mean that having more firefighters causes more damage. In reality, the intensity of the fire is the common cause for both the increased number of firefighters and the increased damage. Understanding this distinction is crucial to avoid making incorrect assumptions or decisions based solely on correlation.\n",
      "--------------------------------------------------\\n\\n\n",
      "Question:  8. How does a strong correlation between two variables help in making decisions and improving outcomes in various fields?\n",
      "Answer:  A strong correlation between two variables helps in making decisions and improving outcomes in various fields by allowing for predictions to be made based on the relationship between the variables. For example, in business, if there is a strong correlation between advertising spending and sales, a company can use this information to allocate their resources more effectively. Similarly, in finance, identifying a strong correlation between different financial assets can help in building diversified portfolios to reduce risk. In medicine, understanding the correlation between risk factors and diseases can lead to better prevention and treatment strategies. Overall, a strong correlation provides valuable insights that can guide decision-making processes and lead to improved outcomes in different fields.\n",
      "--------------------------------------------------\\n\\n\n",
      "Question:  9. Discuss the range of correlation coefficients and what each value indicates in terms of the relationship between variables.\n",
      "Answer:  The range of correlation coefficients is from -1 to 1. Here is what each value indicates in terms of the relationship between variables:\n",
      "\n",
      "1. A correlation coefficient of 1 indicates a perfect positive linear relationship between the two variables. This means that as one variable increases, the other variable also increases proportionally.\n",
      "\n",
      "2. A correlation coefficient of -1 indicates a perfect negative linear relationship between the two variables. This means that as one variable increases, the other variable decreases proportionally.\n",
      "\n",
      "3. A correlation coefficient of 0 indicates no linear relationship between the two variables. This means that there is no predictable pattern in the relationship between the variables.\n",
      "\n",
      "In summary, the correlation coefficient helps to quantify the strength and direction of the relationship between two variables, with values closer to 1 or -1 indicating a stronger relationship, and values closer to 0 indicating a weaker or no relationship.\n",
      "--------------------------------------------------\\n\\n\n",
      "Question:  10. How can correlation analysis help in identifying relationships between variables and understanding complex systems?\n",
      "Answer:  Correlation analysis can help in identifying relationships between variables and understanding complex systems by quantifying the strength and direction of the relationship between two variables. It can indicate whether the relationship is positive, negative, or non-existent. This information is valuable in understanding how different factors interact within a system, providing insights into how changes in one variable may affect another. By analyzing correlations, researchers can gain a clearer picture of the interdependencies within complex systems, which can aid in decision-making and problem-solving processes.\n",
      "--------------------------------------------------\\n\\n\n"
     ]
    }
   ],
   "source": [
    "# Answer each question and save to a file\n",
    "for question in ques_list:\n",
    "    print(\"Question: \", question)\n",
    "    answer = answer_generation_chain.run(question)\n",
    "    print(\"Answer: \", answer)\n",
    "    print(\"--------------------------------------------------\\\\n\\\\n\")\n",
    "    # Save answer to file\n",
    "    with open(\"answers.txt\", \"a\") as f:\n",
    "        f.write(\"Question: \" + question + \"\\\\n\")\n",
    "        f.write(\"Answer: \" + answer + \"\\\\n\")\n",
    "        f.write(\"--------------------------------------------------\\\\n\\\\n\")"
   ]
  }
 ],
 "metadata": {
  "kernelspec": {
   "display_name": "interview",
   "language": "python",
   "name": "python3"
  },
  "language_info": {
   "codemirror_mode": {
    "name": "ipython",
    "version": 3
   },
   "file_extension": ".py",
   "mimetype": "text/x-python",
   "name": "python",
   "nbconvert_exporter": "python",
   "pygments_lexer": "ipython3",
   "version": "3.9.19"
  }
 },
 "nbformat": 4,
 "nbformat_minor": 2
}
